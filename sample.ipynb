{
 "cells": [
  {
   "cell_type": "code",
   "execution_count": 1,
   "id": "32ab66fc-4dd9-42e5-9311-8edb6fa20bd3",
   "metadata": {},
   "outputs": [],
   "source": [
    "from komteb import get_komteb_evaluation"
   ]
  },
  {
   "cell_type": "code",
   "execution_count": 4,
   "id": "738b8188-badc-44d9-87c4-f32a4aaa9222",
   "metadata": {},
   "outputs": [],
   "source": [
    "evaluation = get_komteb_evaluation()"
   ]
  },
  {
   "cell_type": "code",
   "execution_count": 5,
   "id": "08ec1e99-c8ba-4cf8-a74f-220704072185",
   "metadata": {},
   "outputs": [
    {
     "name": "stderr",
     "output_type": "stream",
     "text": [
      "No sentence-transformers model found with name /root/.cache/torch/sentence_transformers/BM-K_KoMiniLM. Creating a new one with MEAN pooling.\n"
     ]
    },
    {
     "data": {
      "text/html": [
       "<pre style=\"white-space:pre;overflow-x:auto;line-height:normal;font-family:Menlo,'DejaVu Sans Mono',consolas,'Courier New',monospace\"><span style=\"color: #262626; text-decoration-color: #262626\">───────────────────────────────────────────────── </span><span style=\"font-weight: bold\">Selected tasks </span><span style=\"color: #262626; text-decoration-color: #262626\"> ─────────────────────────────────────────────────</span>\n",
       "</pre>\n"
      ],
      "text/plain": [
       "\u001b[38;5;235m───────────────────────────────────────────────── \u001b[0m\u001b[1mSelected tasks \u001b[0m\u001b[38;5;235m ─────────────────────────────────────────────────\u001b[0m\n"
      ]
     },
     "metadata": {},
     "output_type": "display_data"
    },
    {
     "data": {
      "text/html": [
       "<pre style=\"white-space:pre;overflow-x:auto;line-height:normal;font-family:Menlo,'DejaVu Sans Mono',consolas,'Courier New',monospace\"><span style=\"font-weight: bold\">PairClassification</span>\n",
       "</pre>\n"
      ],
      "text/plain": [
       "\u001b[1mPairClassification\u001b[0m\n"
      ]
     },
     "metadata": {},
     "output_type": "display_data"
    },
    {
     "data": {
      "text/html": [
       "<pre style=\"white-space:pre;overflow-x:auto;line-height:normal;font-family:Menlo,'DejaVu Sans Mono',consolas,'Courier New',monospace\">    - QPair, <span style=\"color: #626262; text-decoration-color: #626262; font-style: italic\">s2s</span>\n",
       "</pre>\n"
      ],
      "text/plain": [
       "    - QPair, \u001b[3;38;5;241ms2s\u001b[0m\n"
      ]
     },
     "metadata": {},
     "output_type": "display_data"
    },
    {
     "data": {
      "text/html": [
       "<pre style=\"white-space:pre;overflow-x:auto;line-height:normal;font-family:Menlo,'DejaVu Sans Mono',consolas,'Courier New',monospace\">    - KBBoolQ, <span style=\"color: #626262; text-decoration-color: #626262; font-style: italic\">s2s</span>\n",
       "</pre>\n"
      ],
      "text/plain": [
       "    - KBBoolQ, \u001b[3;38;5;241ms2s\u001b[0m\n"
      ]
     },
     "metadata": {},
     "output_type": "display_data"
    },
    {
     "data": {
      "text/html": [
       "<pre style=\"white-space:pre;overflow-x:auto;line-height:normal;font-family:Menlo,'DejaVu Sans Mono',consolas,'Courier New',monospace\">\n",
       "\n",
       "</pre>\n"
      ],
      "text/plain": [
       "\n",
       "\n"
      ]
     },
     "metadata": {},
     "output_type": "display_data"
    },
    {
     "data": {
      "text/html": [
       "<pre style=\"white-space:pre;overflow-x:auto;line-height:normal;font-family:Menlo,'DejaVu Sans Mono',consolas,'Courier New',monospace\"><span style=\"font-weight: bold\">Classification</span>\n",
       "</pre>\n"
      ],
      "text/plain": [
       "\u001b[1mClassification\u001b[0m\n"
      ]
     },
     "metadata": {},
     "output_type": "display_data"
    },
    {
     "data": {
      "text/html": [
       "<pre style=\"white-space:pre;overflow-x:auto;line-height:normal;font-family:Menlo,'DejaVu Sans Mono',consolas,'Courier New',monospace\">    - MassiveIntentClassification, <span style=\"color: #626262; text-decoration-color: #626262; font-style: italic\">s2s</span>, <span style=\"color: #800000; text-decoration-color: #800000; font-style: italic\">multilingual </span><span style=\"color: #800000; text-decoration-color: #800000; font-weight: bold; font-style: italic\">51</span><span style=\"color: #800000; text-decoration-color: #800000; font-style: italic\"> langs</span>\n",
       "</pre>\n"
      ],
      "text/plain": [
       "    - MassiveIntentClassification, \u001b[3;38;5;241ms2s\u001b[0m, \u001b[3;31mmultilingual \u001b[0m\u001b[1;3;31m51\u001b[0m\u001b[3;31m langs\u001b[0m\n"
      ]
     },
     "metadata": {},
     "output_type": "display_data"
    },
    {
     "data": {
      "text/html": [
       "<pre style=\"white-space:pre;overflow-x:auto;line-height:normal;font-family:Menlo,'DejaVu Sans Mono',consolas,'Courier New',monospace\">    - MassiveScenarioClassification, <span style=\"color: #626262; text-decoration-color: #626262; font-style: italic\">s2s</span>, <span style=\"color: #800000; text-decoration-color: #800000; font-style: italic\">multilingual </span><span style=\"color: #800000; text-decoration-color: #800000; font-weight: bold; font-style: italic\">51</span><span style=\"color: #800000; text-decoration-color: #800000; font-style: italic\"> langs</span>\n",
       "</pre>\n"
      ],
      "text/plain": [
       "    - MassiveScenarioClassification, \u001b[3;38;5;241ms2s\u001b[0m, \u001b[3;31mmultilingual \u001b[0m\u001b[1;3;31m51\u001b[0m\u001b[3;31m langs\u001b[0m\n"
      ]
     },
     "metadata": {},
     "output_type": "display_data"
    },
    {
     "data": {
      "text/html": [
       "<pre style=\"white-space:pre;overflow-x:auto;line-height:normal;font-family:Menlo,'DejaVu Sans Mono',consolas,'Courier New',monospace\">    - KBSentiNeg, <span style=\"color: #626262; text-decoration-color: #626262; font-style: italic\">s2s</span>\n",
       "</pre>\n"
      ],
      "text/plain": [
       "    - KBSentiNeg, \u001b[3;38;5;241ms2s\u001b[0m\n"
      ]
     },
     "metadata": {},
     "output_type": "display_data"
    },
    {
     "data": {
      "text/html": [
       "<pre style=\"white-space:pre;overflow-x:auto;line-height:normal;font-family:Menlo,'DejaVu Sans Mono',consolas,'Courier New',monospace\">    - KlueYnat, <span style=\"color: #626262; text-decoration-color: #626262; font-style: italic\">s2s</span>\n",
       "</pre>\n"
      ],
      "text/plain": [
       "    - KlueYnat, \u001b[3;38;5;241ms2s\u001b[0m\n"
      ]
     },
     "metadata": {},
     "output_type": "display_data"
    },
    {
     "data": {
      "text/html": [
       "<pre style=\"white-space:pre;overflow-x:auto;line-height:normal;font-family:Menlo,'DejaVu Sans Mono',consolas,'Courier New',monospace\">\n",
       "\n",
       "</pre>\n"
      ],
      "text/plain": [
       "\n",
       "\n"
      ]
     },
     "metadata": {},
     "output_type": "display_data"
    },
    {
     "data": {
      "text/html": [
       "<pre style=\"white-space:pre;overflow-x:auto;line-height:normal;font-family:Menlo,'DejaVu Sans Mono',consolas,'Courier New',monospace\"><span style=\"font-weight: bold\">STS</span>\n",
       "</pre>\n"
      ],
      "text/plain": [
       "\u001b[1mSTS\u001b[0m\n"
      ]
     },
     "metadata": {},
     "output_type": "display_data"
    },
    {
     "data": {
      "text/html": [
       "<pre style=\"white-space:pre;overflow-x:auto;line-height:normal;font-family:Menlo,'DejaVu Sans Mono',consolas,'Courier New',monospace\">    - STS17, <span style=\"color: #626262; text-decoration-color: #626262; font-style: italic\">s2s</span>, <span style=\"color: #008080; text-decoration-color: #008080; font-style: italic\">crosslingual </span><span style=\"color: #008080; text-decoration-color: #008080; font-weight: bold; font-style: italic\">11</span><span style=\"color: #008080; text-decoration-color: #008080; font-style: italic\"> pairs</span>\n",
       "</pre>\n"
      ],
      "text/plain": [
       "    - STS17, \u001b[3;38;5;241ms2s\u001b[0m, \u001b[3;36mcrosslingual \u001b[0m\u001b[1;3;36m11\u001b[0m\u001b[3;36m pairs\u001b[0m\n"
      ]
     },
     "metadata": {},
     "output_type": "display_data"
    },
    {
     "data": {
      "text/html": [
       "<pre style=\"white-space:pre;overflow-x:auto;line-height:normal;font-family:Menlo,'DejaVu Sans Mono',consolas,'Courier New',monospace\">    - KlueSTS, <span style=\"color: #626262; text-decoration-color: #626262; font-style: italic\">s2s</span>\n",
       "</pre>\n"
      ],
      "text/plain": [
       "    - KlueSTS, \u001b[3;38;5;241ms2s\u001b[0m\n"
      ]
     },
     "metadata": {},
     "output_type": "display_data"
    },
    {
     "data": {
      "text/html": [
       "<pre style=\"white-space:pre;overflow-x:auto;line-height:normal;font-family:Menlo,'DejaVu Sans Mono',consolas,'Courier New',monospace\">\n",
       "\n",
       "</pre>\n"
      ],
      "text/plain": [
       "\n",
       "\n"
      ]
     },
     "metadata": {},
     "output_type": "display_data"
    },
    {
     "name": "stderr",
     "output_type": "stream",
     "text": [
      "WARNING: MassiveIntentClassification results already exists. Skipping.\n",
      "WARNING: MassiveScenarioClassification results already exists. Skipping.\n",
      "WARNING: KBSentiNeg results already exists. Skipping.\n",
      "WARNING: KlueYnat results already exists. Skipping.\n",
      "WARNING: QPair results already exists. Skipping.\n",
      "WARNING: KBBoolQ results already exists. Skipping.\n",
      "WARNING: STS17 results already exists. Skipping.\n",
      "WARNING: KlueSTS results already exists. Skipping.\n"
     ]
    }
   ],
   "source": [
    "from sentence_transformers import SentenceTransformer\n",
    "\n",
    "model_name = \"BM-K/KoMiniLM\"\n",
    "model = SentenceTransformer(model_name)\n",
    "results = evaluation.run(model, output_folder=f\"dev/{model_name}\")"
   ]
  },
  {
   "cell_type": "code",
   "execution_count": 1,
   "id": "b70c1ea8-e9db-4bac-827c-29caecd518e3",
   "metadata": {},
   "outputs": [],
   "source": [
    "from mteb import MTEB"
   ]
  },
  {
   "cell_type": "code",
   "execution_count": 2,
   "id": "508aa93e-b3ad-4a3c-9ab6-03f2c1d845bd",
   "metadata": {},
   "outputs": [],
   "source": [
    "evaluation = MTEB(task_types=['PairClassification'])"
   ]
  },
  {
   "cell_type": "code",
   "execution_count": 3,
   "id": "06785f42-f08d-46af-a814-3c9b6853756a",
   "metadata": {},
   "outputs": [
    {
     "name": "stderr",
     "output_type": "stream",
     "text": [
      "No sentence-transformers model found with name /root/.cache/torch/sentence_transformers/BM-K_KoMiniLM. Creating a new one with MEAN pooling.\n"
     ]
    },
    {
     "data": {
      "text/html": [
       "<pre style=\"white-space:pre;overflow-x:auto;line-height:normal;font-family:Menlo,'DejaVu Sans Mono',consolas,'Courier New',monospace\"><span style=\"color: #262626; text-decoration-color: #262626\">───────────────────────────────────────────────── </span><span style=\"font-weight: bold\">Selected tasks </span><span style=\"color: #262626; text-decoration-color: #262626\"> ─────────────────────────────────────────────────</span>\n",
       "</pre>\n"
      ],
      "text/plain": [
       "\u001b[38;5;235m───────────────────────────────────────────────── \u001b[0m\u001b[1mSelected tasks \u001b[0m\u001b[38;5;235m ─────────────────────────────────────────────────\u001b[0m\n"
      ]
     },
     "metadata": {},
     "output_type": "display_data"
    },
    {
     "data": {
      "text/html": [
       "<pre style=\"white-space:pre;overflow-x:auto;line-height:normal;font-family:Menlo,'DejaVu Sans Mono',consolas,'Courier New',monospace\"><span style=\"font-weight: bold\">PairClassification</span>\n",
       "</pre>\n"
      ],
      "text/plain": [
       "\u001b[1mPairClassification\u001b[0m\n"
      ]
     },
     "metadata": {},
     "output_type": "display_data"
    },
    {
     "data": {
      "text/html": [
       "<pre style=\"white-space:pre;overflow-x:auto;line-height:normal;font-family:Menlo,'DejaVu Sans Mono',consolas,'Courier New',monospace\">    - SprintDuplicateQuestions, <span style=\"color: #626262; text-decoration-color: #626262; font-style: italic\">s2s</span>\n",
       "</pre>\n"
      ],
      "text/plain": [
       "    - SprintDuplicateQuestions, \u001b[3;38;5;241ms2s\u001b[0m\n"
      ]
     },
     "metadata": {},
     "output_type": "display_data"
    },
    {
     "data": {
      "text/html": [
       "<pre style=\"white-space:pre;overflow-x:auto;line-height:normal;font-family:Menlo,'DejaVu Sans Mono',consolas,'Courier New',monospace\">    - TwitterSemEval2015, <span style=\"color: #626262; text-decoration-color: #626262; font-style: italic\">s2s</span>\n",
       "</pre>\n"
      ],
      "text/plain": [
       "    - TwitterSemEval2015, \u001b[3;38;5;241ms2s\u001b[0m\n"
      ]
     },
     "metadata": {},
     "output_type": "display_data"
    },
    {
     "data": {
      "text/html": [
       "<pre style=\"white-space:pre;overflow-x:auto;line-height:normal;font-family:Menlo,'DejaVu Sans Mono',consolas,'Courier New',monospace\">    - TwitterURLCorpus, <span style=\"color: #626262; text-decoration-color: #626262; font-style: italic\">s2s</span>\n",
       "</pre>\n"
      ],
      "text/plain": [
       "    - TwitterURLCorpus, \u001b[3;38;5;241ms2s\u001b[0m\n"
      ]
     },
     "metadata": {},
     "output_type": "display_data"
    },
    {
     "data": {
      "text/html": [
       "<pre style=\"white-space:pre;overflow-x:auto;line-height:normal;font-family:Menlo,'DejaVu Sans Mono',consolas,'Courier New',monospace\">\n",
       "\n",
       "</pre>\n"
      ],
      "text/plain": [
       "\n",
       "\n"
      ]
     },
     "metadata": {},
     "output_type": "display_data"
    },
    {
     "name": "stdout",
     "output_type": "stream",
     "text": [
      "Downloading and preparing dataset json/mteb--sprintduplicatequestions-pairclassification to /root/.cache/huggingface/datasets/mteb___json/mteb--sprintduplicatequestions-pairclassification-0d7dc1f3cd793a87/0.0.0/e347ab1c932092252e717ff3f949105a4dd28b27e842dd53157d2f72e276c2e4...\n",
      "Dataset json downloaded and prepared to /root/.cache/huggingface/datasets/mteb___json/mteb--sprintduplicatequestions-pairclassification-0d7dc1f3cd793a87/0.0.0/e347ab1c932092252e717ff3f949105a4dd28b27e842dd53157d2f72e276c2e4. Subsequent calls will reuse this data.\n",
      "Downloading and preparing dataset json/mteb--twittersemeval2015-pairclassification to /root/.cache/huggingface/datasets/mteb___json/mteb--twittersemeval2015-pairclassification-999de4c9b1bf139f/0.0.0/e347ab1c932092252e717ff3f949105a4dd28b27e842dd53157d2f72e276c2e4...\n",
      "Dataset json downloaded and prepared to /root/.cache/huggingface/datasets/mteb___json/mteb--twittersemeval2015-pairclassification-999de4c9b1bf139f/0.0.0/e347ab1c932092252e717ff3f949105a4dd28b27e842dd53157d2f72e276c2e4. Subsequent calls will reuse this data.\n",
      "Downloading and preparing dataset json/mteb--twitterurlcorpus-pairclassification to /root/.cache/huggingface/datasets/mteb___json/mteb--twitterurlcorpus-pairclassification-101b1736decdafaf/0.0.0/e347ab1c932092252e717ff3f949105a4dd28b27e842dd53157d2f72e276c2e4...\n",
      "Dataset json downloaded and prepared to /root/.cache/huggingface/datasets/mteb___json/mteb--twitterurlcorpus-pairclassification-101b1736decdafaf/0.0.0/e347ab1c932092252e717ff3f949105a4dd28b27e842dd53157d2f72e276c2e4. Subsequent calls will reuse this data.\n"
     ]
    }
   ],
   "source": [
    "from sentence_transformers import SentenceTransformer\n",
    "\n",
    "model_name = \"BM-K/KoMiniLM\"\n",
    "model = SentenceTransformer(model_name)\n",
    "results = evaluation.run(model, output_folder=f\"test/{model_name}\")"
   ]
  },
  {
   "cell_type": "markdown",
   "id": "ae9e8913-c960-48a3-b2a4-50b2b7536404",
   "metadata": {},
   "source": [
    "---"
   ]
  },
  {
   "cell_type": "code",
   "execution_count": 7,
   "id": "4e406083-a40c-4339-8053-817ea6ba34be",
   "metadata": {},
   "outputs": [],
   "source": [
    "import json\n",
    "from pathlib import Path"
   ]
  },
  {
   "cell_type": "code",
   "execution_count": 8,
   "id": "3fedbbac-a635-4ff6-8649-6ee28df47d24",
   "metadata": {},
   "outputs": [],
   "source": [
    "path= Path('dev/BM-K/KoMiniLM/')"
   ]
  },
  {
   "cell_type": "code",
   "execution_count": 20,
   "id": "e8547583-ec4e-4f0a-b0d9-b727e89adecd",
   "metadata": {},
   "outputs": [
    {
     "name": "stdout",
     "output_type": "stream",
     "text": [
      "MassiveIntentClassification\n",
      "MassiveScenarioClassification\n",
      "STS17\n",
      "KlueSTS\n"
     ]
    }
   ],
   "source": [
    "results = []\n",
    "for fn in path.glob('*.json'):\n",
    "    with open(fn) as f:\n",
    "        print(fn.stem)\n",
    "        results.append(json.load(f))"
   ]
  },
  {
   "cell_type": "markdown",
   "id": "437a7a5d-4060-4e00-8e15-a919071bd738",
   "metadata": {},
   "source": [
    "'''json\n",
    "{\n",
    "    \"model_name\": <huggingface model name>,\n",
    "    \"evaluation_time\": \n",
    "    \"<task_name>\": score,\n",
    "       ....\n",
    "}\n",
    "'''"
   ]
  },
  {
   "cell_type": "code",
   "execution_count": 18,
   "id": "ee7604cb-86c5-4ebc-8259-d9b10d91f1a8",
   "metadata": {},
   "outputs": [
    {
     "data": {
      "text/plain": [
       "'KlueSTS.json'"
      ]
     },
     "execution_count": 18,
     "metadata": {},
     "output_type": "execute_result"
    }
   ],
   "source": [
    "fn.name"
   ]
  },
  {
   "cell_type": "code",
   "execution_count": 16,
   "id": "3b519262-1727-489a-8bf7-524ae02bdb9b",
   "metadata": {},
   "outputs": [
    {
     "data": {
      "text/plain": [
       "[{'dataset_revision': '31efe3c427b0bae9c22cbb560b8f15491cc6bed7',\n",
       "  'mteb_dataset_name': 'MassiveIntentClassification',\n",
       "  'mteb_version': '1.0.2',\n",
       "  'test': {'evaluation_time': 16.62,\n",
       "   'ko': {'accuracy': 0.5392400806993948,\n",
       "    'accuracy_stderr': 0.01301329870764713,\n",
       "    'f1': 0.5097795905988475,\n",
       "    'f1_stderr': 0.010034940891505077,\n",
       "    'main_score': 0.5392400806993948}},\n",
       "  'validation': {'evaluation_time': 38.42,\n",
       "   'ko': {'accuracy': 0.5526315789473685,\n",
       "    'accuracy_stderr': 0.013264915455151786,\n",
       "    'f1': 0.5210542023941004,\n",
       "    'f1_stderr': 0.013161043470539651,\n",
       "    'main_score': 0.5526315789473685}}},\n",
       " {'dataset_revision': '7d571f92784cd94a019292a1f45445077d0ef634',\n",
       "  'mteb_dataset_name': 'MassiveScenarioClassification',\n",
       "  'mteb_version': '1.0.2',\n",
       "  'test': {'evaluation_time': 9.42,\n",
       "   'ko': {'accuracy': 0.5686953597848017,\n",
       "    'accuracy_stderr': 0.03137354747881623,\n",
       "    'f1': 0.5525656435389508,\n",
       "    'f1_stderr': 0.02700456197184835,\n",
       "    'main_score': 0.5686953597848017}},\n",
       "  'validation': {'evaluation_time': 8.76,\n",
       "   'ko': {'accuracy': 0.5574028529267093,\n",
       "    'accuracy_stderr': 0.032407498423284505,\n",
       "    'f1': 0.5420250185429414,\n",
       "    'f1_stderr': 0.027423075393279386,\n",
       "    'main_score': 0.5574028529267093}}},\n",
       " {'dataset_revision': 'af5e6fb845001ecf41f4c1e033ce921939a2a68d',\n",
       "  'mteb_dataset_name': 'STS17',\n",
       "  'mteb_version': '1.0.2',\n",
       "  'test': {'evaluation_time': 11.14,\n",
       "   'ko-ko': {'cos_sim': {'pearson': 0.4350340972277814,\n",
       "     'spearman': 0.44117010687154745},\n",
       "    'euclidean': {'pearson': 0.46358568256560423,\n",
       "     'spearman': 0.46052211952591326},\n",
       "    'manhattan': {'pearson': 0.47077038649533154,\n",
       "     'spearman': 0.46527480252494546}}}},\n",
       " {'dataset_revision': None,\n",
       "  'mteb_dataset_name': 'KlueSTS',\n",
       "  'mteb_version': '1.0.2',\n",
       "  'validation': {'cos_sim': {'pearson': 0.23848918692186055,\n",
       "    'spearman': 0.26774695241287344},\n",
       "   'euclidean': {'pearson': 0.25618550475145674,\n",
       "    'spearman': 0.25632058034576816},\n",
       "   'evaluation_time': 1.01,\n",
       "   'manhattan': {'pearson': 0.26795463831633953,\n",
       "    'spearman': 0.26220522827867376}}}]"
      ]
     },
     "execution_count": 16,
     "metadata": {},
     "output_type": "execute_result"
    }
   ],
   "source": [
    "results"
   ]
  },
  {
   "cell_type": "code",
   "execution_count": null,
   "id": "601bea9a-d4ba-4b8c-b47b-3e6c314d9e36",
   "metadata": {},
   "outputs": [],
   "source": []
  },
  {
   "cell_type": "code",
   "execution_count": null,
   "id": "0463bd2e-9abe-4c67-a644-43288fb40afa",
   "metadata": {},
   "outputs": [],
   "source": [
    "'dev/BM-K/KoMiniLM/KlueSTS.json'"
   ]
  }
 ],
 "metadata": {
  "kernelspec": {
   "display_name": "Python 3 (ipykernel)",
   "language": "python",
   "name": "python3"
  },
  "language_info": {
   "codemirror_mode": {
    "name": "ipython",
    "version": 3
   },
   "file_extension": ".py",
   "mimetype": "text/x-python",
   "name": "python",
   "nbconvert_exporter": "python",
   "pygments_lexer": "ipython3",
   "version": "3.10.9"
  }
 },
 "nbformat": 4,
 "nbformat_minor": 5
}
